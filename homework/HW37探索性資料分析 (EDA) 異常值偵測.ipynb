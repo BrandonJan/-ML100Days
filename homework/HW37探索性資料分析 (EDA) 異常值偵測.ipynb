{
 "cells": [
  {
   "cell_type": "markdown",
   "source": [
    "## 作業\n",
    "在鐵達尼資料集中，   \n",
    "可以用今天範例中提到的三種辨識異常值的方法，  \n",
    "以 training data 為資料集。  \n",
    "1.觀察票價是否有異常值的現象?  \n",
    "2.你覺得找出的異常是真的異常? 你覺得需要做處理嗎?  \n",
    "(試著講出自己的想法。)  \n"
   ],
   "metadata": {}
  },
  {
   "cell_type": "markdown",
   "source": [
    "### 資料\n",
    "鐵達尼號 train 資料集\n"
   ],
   "metadata": {
    "colab_type": "text",
    "id": "Z9YHBcEGYdBV"
   }
  },
  {
   "cell_type": "code",
   "execution_count": 10,
   "source": [
    "# library\r\n",
    "import matplotlib.pyplot as plt\r\n",
    "import numpy as np\r\n",
    "import pandas as pd\r\n",
    "import seaborn  as sns\r\n",
    "from scipy import stats\r\n",
    "import math\r\n",
    "import statistics\r\n",
    "#讓圖可以在 jupyter notebook顯示\r\n",
    "%matplotlib inline\r\n"
   ],
   "outputs": [],
   "metadata": {
    "colab": {
     "base_uri": "https://localhost:8080/",
     "height": 34
    },
    "colab_type": "code",
    "collapsed": true,
    "executionInfo": {
     "elapsed": 1558,
     "status": "ok",
     "timestamp": 1578021044012,
     "user": {
      "displayName": "Mora chen",
      "photoUrl": "https://lh3.googleusercontent.com/a-/AAuE7mB40f7sDArbZ5_DYq02nNcnLD0Ryaf7AhsASSQeLQ=s64",
      "userId": "03171203089166907199"
     },
     "user_tz": -480
    },
    "id": "yz28_IgkYdBW",
    "outputId": "a12f486c-18b3-4fb5-d06c-f162aebd9444"
   }
  },
  {
   "cell_type": "code",
   "execution_count": 11,
   "source": [
    "df_train = pd.read_csv(\"Titanic_train.csv\")"
   ],
   "outputs": [],
   "metadata": {
    "collapsed": true
   }
  },
  {
   "cell_type": "markdown",
   "source": [
    "### 探索性分析:\n",
    "*  觀察-是否有異常值  \n",
    "我們來觀察一下 Fare 變數吧!!"
   ],
   "metadata": {}
  },
  {
   "cell_type": "markdown",
   "source": [
    "## Q1:觀察票價是否有異常值的現象?"
   ],
   "metadata": {}
  },
  {
   "cell_type": "code",
   "execution_count": 16,
   "source": [
    "# library\r\n",
    "import matplotlib.pyplot as plt\r\n",
    "import numpy as np\r\n",
    "import pandas as pd\r\n",
    "import seaborn  as sns\r\n",
    "from scipy import stats\r\n",
    "import math\r\n",
    "import statistics\r\n",
    "#讓圖可以在 jupyter notebook顯示\r\n",
    "%matplotlib inline\r\n",
    "df_train = pd.read_csv(\"Titanic_train.csv\")\r\n",
    "#方法1 進行一個描述性的統計（規定範圍），從而檢視哪些值是不合理的（範圍以外的值）。\r\n",
    "print(df_train['Fare'].mean()) #age平均\r\n",
    "print(df_train['Fare'].std()) #age標準差\r\n",
    "# 連續型用分布圖行來看\r\n",
    "sns.set_style('whitegrid')\r\n",
    "g = sns.FacetGrid(df_train, col='Survived')\r\n",
    "g.map(sns.distplot, 'Fare', kde=False)\r\n",
    "plt.show()\r\n",
    "#先透過 計算統計值， 分別呈現數量，年齡平均，標準差，最大值和最小值。\r\n",
    "print(df_train['Fare'].describe()) #age平均\r\n",
    "# 透過這樣的方式，最大值512明顯超出合理範圍"
   ],
   "outputs": [
    {
     "output_type": "stream",
     "name": "stdout",
     "text": [
      "32.2042079685746\n",
      "49.693428597180905\n"
     ]
    },
    {
     "output_type": "stream",
     "name": "stderr",
     "text": [
      "C:\\Users\\Brandon\\Anaconda3\\lib\\site-packages\\seaborn\\distributions.py:2557: FutureWarning: `distplot` is a deprecated function and will be removed in a future version. Please adapt your code to use either `displot` (a figure-level function with similar flexibility) or `histplot` (an axes-level function for histograms).\n",
      "  warnings.warn(msg, FutureWarning)\n"
     ]
    },
    {
     "output_type": "display_data",
     "data": {
      "text/plain": [
       "<Figure size 432x216 with 2 Axes>"
      ],
      "image/png": "[encoded data removed]"
     },
     "metadata": {}
    },
    {
     "output_type": "stream",
     "name": "stdout",
     "text": [
      "count    891.000000\n",
      "mean      32.204208\n",
      "std       49.693429\n",
      "min        0.000000\n",
      "25%        7.910400\n",
      "50%       14.454200\n",
      "75%       31.000000\n",
      "max      512.329200\n",
      "Name: Fare, dtype: float64\n"
     ]
    }
   ],
   "metadata": {}
  },
  {
   "cell_type": "markdown",
   "source": [
    "## 方法1\r\n",
    "* 進行一個描述性的統計（規定範圍），從而檢視哪些值是不合理的（範圍以外的值）。  \r\n"
   ],
   "metadata": {}
  },
  {
   "cell_type": "markdown",
   "source": [
    "## 方法 2\n",
    "* 進行3倍標準差原則的計算，從而檢視哪些值是可疑的異常值。  \n"
   ],
   "metadata": {}
  },
  {
   "cell_type": "code",
   "execution_count": 20,
   "source": [
    "# library\r\n",
    "import matplotlib.pyplot as plt\r\n",
    "import numpy as np\r\n",
    "import pandas as pd\r\n",
    "import seaborn  as sns\r\n",
    "from scipy import stats\r\n",
    "import math\r\n",
    "import statistics\r\n",
    "#讓圖可以在 jupyter notebook顯示\r\n",
    "%matplotlib inline\r\n",
    "df_train = pd.read_csv(\"Titanic_train.csv\")\r\n",
    "# 創建一個函數，計算在這個資料中， ys:資料，times : 幾倍標準差，找出在這樣條件下的異常值。\r\n",
    "def outliers_z_score(ys,times):\r\n",
    "    mean_y = np.mean(ys)\r\n",
    "    stdev_y = np.std(ys)\r\n",
    "    z_scores = [(y - mean_y) / stdev_y for y in ys]\r\n",
    "    return np.where(np.abs(z_scores) > times)\r\n",
    "\r\n",
    "out_index=outliers_z_score(df_train['Fare'],3)\r\n",
    "print(out_index[0])\r\n",
    "print(\"用第二種方法的找出的 outlier 有哪些?\")\r\n",
    "print(df_train.loc[out_index[0],'Fare'])\r\n",
    "#  所以用這個方法，找出的 outlier 就是少數族群"
   ],
   "outputs": [
    {
     "output_type": "stream",
     "name": "stdout",
     "text": [
      "[ 27  88 118 258 299 311 341 377 380 438 527 557 679 689 700 716 730 737\n",
      " 742 779]\n",
      "用第二種方法的找出的 outlier 有哪些?\n",
      "27     263.0000\n",
      "88     263.0000\n",
      "118    247.5208\n",
      "258    512.3292\n",
      "299    247.5208\n",
      "311    262.3750\n",
      "341    263.0000\n",
      "377    211.5000\n",
      "380    227.5250\n",
      "438    263.0000\n",
      "527    221.7792\n",
      "557    227.5250\n",
      "679    512.3292\n",
      "689    211.3375\n",
      "700    227.5250\n",
      "716    227.5250\n",
      "730    211.3375\n",
      "737    512.3292\n",
      "742    262.3750\n",
      "779    211.3375\n",
      "Name: Fare, dtype: float64\n"
     ]
    }
   ],
   "metadata": {}
  },
  {
   "cell_type": "markdown",
   "source": [
    "## 方法3-盒鬚圖判別法(IQR method)"
   ],
   "metadata": {}
  },
  {
   "cell_type": "code",
   "execution_count": 22,
   "source": [
    "# library\r\n",
    "import matplotlib.pyplot as plt\r\n",
    "import numpy as np\r\n",
    "import pandas as pd\r\n",
    "import seaborn  as sns\r\n",
    "from scipy import stats\r\n",
    "import math\r\n",
    "import statistics\r\n",
    "#讓圖可以在 jupyter notebook顯示\r\n",
    "%matplotlib inline\r\n",
    "df_train = pd.read_csv(\"Titanic_train.csv\")\r\n",
    "import numpy as np\r\n",
    "# 透過一個函數來判斷是否為異常值\r\n",
    "def outliers_iqr(ys,times):\r\n",
    "    #注意 使用 np.percentile 要去除 nan 要不然計算出來會錯誤，所以我們採用下者的程式 np.nanpercentile\r\n",
    "    #quartile_1, quartile_3 = np.percentile(ys, [25, 75])\r\n",
    "    quartile_1, quartile_3 = np.nanpercentile(ys, [25, 75])\r\n",
    "    iqr = quartile_3 - quartile_1\r\n",
    "    lower_bound = quartile_1 - (iqr * times)\r\n",
    "    upper_bound = quartile_3 + (iqr * times)\r\n",
    "    return np.where((ys > upper_bound) | (ys < lower_bound))\r\n",
    "out_index2=outliers_iqr(df_train['Fare'],1.5)\r\n",
    "print(out_index2[0])\r\n",
    "print(\"用第三種方法的找出的 outlier 有哪些?(1.5 倍IQR)\")\r\n",
    "print(df_train.loc[out_index2[0],'Fare'])"
   ],
   "outputs": [
    {
     "output_type": "stream",
     "name": "stdout",
     "text": [
      "[  1  27  31  34  52  61  62  72  88 102 118 120 124 139 151 159 180 195\n",
      " 201 215 218 224 230 245 256 257 258 262 268 269 275 290 291 297 299 305\n",
      " 306 307 310 311 318 319 324 325 332 334 336 337 341 366 369 373 375 377\n",
      " 380 385 390 393 412 435 438 445 453 484 486 496 498 504 505 520 527 537\n",
      " 540 544 550 557 558 581 585 587 591 609 627 641 645 655 659 660 665 679\n",
      " 681 689 698 700 708 716 730 737 741 742 745 759 763 765 779 789 792 802\n",
      " 820 829 835 846 849 856 863 879]\n",
      "用第三種方法的找出的 outlier 有哪些?(1.5 倍IQR)\n",
      "1       71.2833\n",
      "27     263.0000\n",
      "31     146.5208\n",
      "34      82.1708\n",
      "52      76.7292\n",
      "         ...   \n",
      "846     69.5500\n",
      "849     89.1042\n",
      "856    164.8667\n",
      "863     69.5500\n",
      "879     83.1583\n",
      "Name: Fare, Length: 116, dtype: float64\n"
     ]
    }
   ],
   "metadata": {}
  },
  {
   "cell_type": "code",
   "execution_count": null,
   "source": [
    "畫盒鬚圖\r\n",
    "方法：利用matplotlib包中axes物件的boxplot()方法。 透過 whis 來設定 IQR 的倍數"
   ],
   "outputs": [],
   "metadata": {}
  },
  {
   "cell_type": "code",
   "execution_count": 23,
   "source": [
    "# library\r\n",
    "import matplotlib.pyplot as plt\r\n",
    "import numpy as np\r\n",
    "import pandas as pd\r\n",
    "import seaborn  as sns\r\n",
    "from scipy import stats\r\n",
    "import math\r\n",
    "import statistics\r\n",
    "#讓圖可以在 jupyter notebook顯示\r\n",
    "%matplotlib inline\r\n",
    "df_train = pd.read_csv(\"Titanic_train.csv\")\r\n",
    "# 使用np.isnana(data)，找出在 Fare中的遺失值，然後逐位反轉，讓遺失值為 0,則可以透過索引的方式，濾掉遺失值。\r\n",
    "plt.boxplot(df_train['Fare'][~np.isnan(df_train['Fare'])],whis=2)\r\n",
    "plt.title('Box Plot')\r\n",
    "plt.show()"
   ],
   "outputs": [
    {
     "output_type": "display_data",
     "data": {
      "text/plain": [
       "<Figure size 432x288 with 1 Axes>"
      ],
      "image/png": "[encoded data removed]"
     },
     "metadata": {}
    }
   ],
   "metadata": {}
  },
  {
   "cell_type": "markdown",
   "source": [
    "## Q2:你覺得找出的異常是真的異常? 你覺得需要做處理嗎?\n"
   ],
   "metadata": {}
  },
  {
   "cell_type": "code",
   "execution_count": null,
   "source": [
    "可以看出異常值大多為高票價的部分，要考慮實際情況，若當時票價確實賣這麼貴的話，屬於業務部門的特定動作導致的資料分佈異常，不能拋棄數值。\r\n",
    "\r\n",
    "這些異常值的處理方法:\r\n",
    "聚類：\r\n",
    "\r\n",
    "我們也可以用決策樹直接處理帶有異常值的數據（決策樹基本不會受到異常值和缺失值的影響），或是對不同的觀測值分配權重。\r\n",
    "\r\n",
    "\r\n",
    "替換：\r\n",
    "\r\n",
    "在替換前需判斷為真異常還是偽異常，如果是真異常，類似替換缺失值，我們也可以替換異常值。我們可以使用均值、中位數、眾數替換方法。\r\n",
    "\r\n",
    "\r\n",
    "分離對待：\r\n",
    "\r\n",
    "如果異常值的數目比較多，在統計模型中我們應該對它們分別處理。一個處理方法是異常值一組，正常值一組，然後分別建立模型，最後對結果進行合併。\r\n",
    "#可以在選擇模型使用較不會被離群值影響的模型(如Decision tree, Random forest...)。\r\n",
    "\r\n",
    "#或者是票價高低另外成立一個獨立的feature，以category的方式表達高票價及低票價。"
   ],
   "outputs": [],
   "metadata": {}
  }
 ],
 "metadata": {
  "colab": {
   "name": "Day33.YOLO 細節理解 - 網路輸出的後處理_HW.ipynb",
   "provenance": []
  },
  "kernelspec": {
   "display_name": "Python 3",
   "language": "python",
   "name": "python3"
  },
  "language_info": {
   "codemirror_mode": {
    "name": "ipython",
    "version": 3
   },
   "file_extension": ".py",
   "mimetype": "text/x-python",
   "name": "python",
   "nbconvert_exporter": "python",
   "pygments_lexer": "ipython3",
   "version": "3.6.1"
  }
 },
 "nbformat": 4,
 "nbformat_minor": 1
}