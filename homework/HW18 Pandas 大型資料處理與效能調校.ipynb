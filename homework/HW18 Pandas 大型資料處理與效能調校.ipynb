{
 "cells": [
  {
   "cell_type": "code",
   "execution_count": null,
   "metadata": {},
   "outputs": [],
   "source": [
    "題目 : \r\n",
    "\r\n",
    "1.在速度較慢的時候，可以先從哪邊開始檢查？\r\n",
    "Ans:先考慮選最快速的讀取資料型態如pkl檔來減少執行時間，另外要多使用內建函數配合 agg 和 transform 進行操作，\r\n",
    "減少自定義函數的使用，最後採用了向量化的資料處理方式也能加快執行速度。\r\n",
    "\r\n",
    "2.資料過大時應採取什麼方式讓記憶體占用量下降？\r\n",
    "Ans:將欄位的型態降級，如將整數型態 int 改成 uint 減少記憶體正用空間"
   ]
  }
 ],
 "metadata": {
  "interpreter": {
   "hash": "1173d45ba291bb8103290b86d84dc8188b01e1e003afe111fd536f43d6741147"
  },
  "kernelspec": {
   "display_name": "Python 3.6.4 64-bit ('base': conda)",
   "name": "python3"
  },
  "language_info": {
   "name": "python",
   "version": ""
  },
  "orig_nbformat": 4
 },
 "nbformat": 4,
 "nbformat_minor": 2
}