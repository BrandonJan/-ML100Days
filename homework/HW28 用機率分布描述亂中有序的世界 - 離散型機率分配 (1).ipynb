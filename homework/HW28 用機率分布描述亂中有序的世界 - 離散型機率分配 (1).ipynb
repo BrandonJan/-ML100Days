{
 "cells": [
  {
   "cell_type": "markdown",
   "metadata": {},
   "source": [
    "## 作業:\n",
    "今天學到2種分配，包含，   \n",
    "離散均勻分配( Discrete Uniform Distribution )   \n",
    "伯努利分配( Bernoulli Distribution )   \n",
    "\n",
    "今天我們透過作業中的問題，回想今天的內容吧!  "
   ]
  },
  {
   "cell_type": "markdown",
   "metadata": {},
   "source": [
    "### 丟一個銅板，丟了100次，出現正面 50 次的機率有多大。\n",
    "(提示: 先想是哪一種分配，然後透過 python 語法進行計算)\n"
   ]
  },
  {
   "cell_type": "code",
   "execution_count": 3,
   "metadata": {},
   "outputs": [
    {
     "name": "stdout",
     "output_type": "stream",
     "text": [
      "丟一個銅板，丟了100次，出現正面 50 次的機率: 0.0796\n"
     ]
    }
   ],
   "source": [
    "# library\r\n",
    "import matplotlib.pyplot as plt\r\n",
    "import numpy as np\r\n",
    "import pandas as pd\r\n",
    "from scipy import stats\r\n",
    "import math\r\n",
    "import statistics\r\n",
    "p = 0.5 # 正面 機率 0.5\r\n",
    "n = 100 #重複丟100次\r\n",
    "probs = stats.binom.pmf(50, n, p) #正面50次的機率，只有成功和失敗兩種可能但每次事件彼此獨立\r\n",
    "print('丟一個銅板，丟了100次，出現正面 50 次的機率:', probs.round(4))"
   ]
  },
  {
   "cell_type": "code",
   "execution_count": 10,
   "metadata": {},
   "outputs": [
    {
     "data": {
      "image/png": "[encoded data removed]",
      "text/plain": [
       "<Figure size 432x288 with 1 Axes>"
      ]
     },
     "metadata": {},
     "output_type": "display_data"
    }
   ],
   "source": [
    "import matplotlib.pyplot as plt\r\n",
    "import numpy as np\r\n",
    "import pandas as pd\r\n",
    "from scipy import stats\r\n",
    "import math\r\n",
    "import statistics\r\n",
    "p = 0.5 # 正面 機率 0.5\r\n",
    "n = 100 #重複丟100次\r\n",
    "x =np.arange(0,99)\r\n",
    "probs = stats.binom.pmf(x,n,p)\r\n",
    "plt.bar(x,probs)\r\n",
    "plt.ylabel('P(X=x)')\r\n",
    "plt.xlabel('x')\r\n",
    "plt.title('binomial(n=100,p=0.5)')\r\n",
    "plt.show()"
   ]
  }
 ],
 "metadata": {
  "colab": {
   "name": "Day33.YOLO 細節理解 - 網路輸出的後處理_HW.ipynb",
   "provenance": []
  },
  "interpreter": {
   "hash": "1173d45ba291bb8103290b86d84dc8188b01e1e003afe111fd536f43d6741147"
  },
  "kernelspec": {
   "display_name": "Python 3.6.4 64-bit ('base': conda)",
   "name": "python3"
  },
  "language_info": {
   "codemirror_mode": {
    "name": "ipython",
    "version": 3
   },
   "file_extension": ".py",
   "mimetype": "text/x-python",
   "name": "python",
   "nbconvert_exporter": "python",
   "pygments_lexer": "ipython3",
   "version": "3.6.4"
  }
 },
 "nbformat": 4,
 "nbformat_minor": 1
}