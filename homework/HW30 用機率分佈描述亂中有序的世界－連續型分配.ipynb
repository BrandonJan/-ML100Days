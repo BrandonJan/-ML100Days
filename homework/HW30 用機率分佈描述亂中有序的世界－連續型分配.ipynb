{
 "cells": [
  {
   "cell_type": "markdown",
   "metadata": {},
   "source": [
    "## 作業:\n",
    "作業目標，讓大家熟悉連續型分配的語法，\n",
    "以及怎麼透過 python 語法進行常態分配的機率運算。\n"
   ]
  },
  {
   "cell_type": "markdown",
   "metadata": {},
   "source": [
    "### Q1:計算標準常態分配，小於1的機率有多大?\n",
    "![](Q1.png)"
   ]
  },
  {
   "cell_type": "code",
   "execution_count": 1,
   "metadata": {
    "colab": {
     "base_uri": "https://localhost:8080/",
     "height": 34
    },
    "colab_type": "code",
    "collapsed": true,
    "executionInfo": {
     "elapsed": 1558,
     "status": "ok",
     "timestamp": 1578021044012,
     "user": {
      "displayName": "Mora chen",
      "photoUrl": "https://lh3.googleusercontent.com/a-/AAuE7mB40f7sDArbZ5_DYq02nNcnLD0Ryaf7AhsASSQeLQ=s64",
      "userId": "03171203089166907199"
     },
     "user_tz": -480
    },
    "id": "yz28_IgkYdBW",
    "outputId": "a12f486c-18b3-4fb5-d06c-f162aebd9444"
   },
   "outputs": [],
   "source": [
    "# library\r\n",
    "import matplotlib.pyplot as plt\r\n",
    "import numpy as np\r\n",
    "import pandas as pd\r\n",
    "from scipy import stats\r\n",
    "import math\r\n",
    "import statistics\r\n",
    "import seaborn as sns"
   ]
  },
  {
   "cell_type": "code",
   "execution_count": 19,
   "metadata": {},
   "outputs": [
    {
     "name": "stdout",
     "output_type": "stream",
     "text": [
      "p(X<1) = 0.8413447460685429\n"
     ]
    }
   ],
   "source": [
    "## Q1:計算標準常態分配，小於1的機率有多大?\r\n",
    "#  提示: 用 cdf 來算\r\n",
    "import matplotlib.pyplot as plt\r\n",
    "import numpy as np\r\n",
    "import pandas as pd\r\n",
    "from scipy import stats\r\n",
    "import math\r\n",
    "import statistics\r\n",
    "import seaborn as sns\r\n",
    "mu=0\r\n",
    "sigma=1\r\n",
    "cumsum_probs =  stats.norm.cdf(1,mu, sigma)\r\n",
    "print('p(X<1) =',cumsum_probs)"
   ]
  },
  {
   "cell_type": "markdown",
   "metadata": {},
   "source": [
    "### Q2:計算標準常態分配，大於1，小於 -1 的機率有多大?\n",
    "![](Q2.png)\n"
   ]
  },
  {
   "cell_type": "code",
   "execution_count": 22,
   "metadata": {},
   "outputs": [
    {
     "name": "stdout",
     "output_type": "stream",
     "text": [
      "p(X>1 or X<-1) = 0.31731050786291415\n"
     ]
    }
   ],
   "source": [
    "## Q2\r\n",
    "import matplotlib.pyplot as plt\r\n",
    "import numpy as np\r\n",
    "import pandas as pd\r\n",
    "from scipy import stats\r\n",
    "import math\r\n",
    "import statistics\r\n",
    "import seaborn as sns\r\n",
    "mu=0\r\n",
    "sigma=1\r\n",
    "a = stats.norm.cdf(1,mu, sigma)\r\n",
    "b = stats.norm.cdf(-1,mu, sigma)\r\n",
    "print('p(X>1 or X<-1) =',1-(a-b))"
   ]
  },
  {
   "cell_type": "markdown",
   "metadata": {},
   "source": [
    "### Q3:X~N(2,4),x 服從常態分配，平均數為2,變異數為 4，計算 X小於 6 的機率有多大?"
   ]
  },
  {
   "cell_type": "code",
   "execution_count": 24,
   "metadata": {},
   "outputs": [
    {
     "name": "stdout",
     "output_type": "stream",
     "text": [
      "p(X<6) = 0.9772498680518208\n"
     ]
    }
   ],
   "source": [
    "## Q3\r\n",
    "#  提示: 和 Q1,Q2 不同，要先標準化。\r\n",
    "import matplotlib.pyplot as plt\r\n",
    "import numpy as np\r\n",
    "import pandas as pd\r\n",
    "from scipy import stats\r\n",
    "import math\r\n",
    "import statistics\r\n",
    "import seaborn as sns\r\n",
    "mu=2\r\n",
    "sigma=2\r\n",
    "cumsum_probs =  stats.norm.cdf(6,mu, sigma)\r\n",
    "print('p(X<6) =',cumsum_probs)"
   ]
  },
  {
   "cell_type": "code",
   "execution_count": 1,
   "metadata": {},
   "outputs": [
    {
     "name": "stdout",
     "output_type": "stream",
     "text": [
      "p(X<3) = 0.6914624612740131\n"
     ]
    }
   ],
   "source": [
    "#Q4:計算 X~N(2,4)，小於 3 的機率有多大\r\n",
    "import matplotlib.pyplot as plt\r\n",
    "import numpy as np\r\n",
    "import pandas as pd\r\n",
    "from scipy import stats\r\n",
    "import math\r\n",
    "import statistics\r\n",
    "import seaborn as sns\r\n",
    "mu=2\r\n",
    "sigma=2\r\n",
    "cumsum_probs =  stats.norm.cdf(3,mu, sigma)\r\n",
    "print('p(X<3) =',cumsum_probs)"
   ]
  }
 ],
 "metadata": {
  "colab": {
   "name": "Day33.YOLO 細節理解 - 網路輸出的後處理_HW.ipynb",
   "provenance": []
  },
  "interpreter": {
   "hash": "1173d45ba291bb8103290b86d84dc8188b01e1e003afe111fd536f43d6741147"
  },
  "kernelspec": {
   "display_name": "Python 3.6.4 64-bit ('base': conda)",
   "name": "python3"
  },
  "language_info": {
   "codemirror_mode": {
    "name": "ipython",
    "version": 3
   },
   "file_extension": ".py",
   "mimetype": "text/x-python",
   "name": "python",
   "nbconvert_exporter": "python",
   "pygments_lexer": "ipython3",
   "version": "3.6.4"
  }
 },
 "nbformat": 4,
 "nbformat_minor": 1
}