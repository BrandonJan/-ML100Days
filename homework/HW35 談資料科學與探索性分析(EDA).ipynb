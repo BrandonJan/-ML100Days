{
 "cells": [
  {
   "cell_type": "markdown",
   "source": [
    "## 作業:\r\n",
    "今天課程中以一個案例，說明資料分析的流程與探索性分析，是否對於課程中一開始的問題，更有想法了?! \r\n",
    "挑選 Mr./Ms. Right\r\n",
    "顧客下次會買哪些東西？\r\n",
    "半導體的良率預測？   \r\n",
    "Q1: 哪一個問題不適合用資料科學解決?   \r\n",
    "Q2: 以你的角度來分析，為什麼這樣的問題，較不適合用資料來解決?    \r\n",
    "將答案寫在論壇中，大家一起互相討論激盪。   \r\n",
    "![](作業圖檔.PNG)"
   ],
   "metadata": {}
  },
  {
   "cell_type": "code",
   "execution_count": 3,
   "source": [
    "print('Q1:挑選 Mr./Ms. Right')\r\n",
    "print('Q2:因為這個問題牽扯到每人喜歡的特質，難以量化')\r\n",
    "print('若一個問題有無法量化標準化的問題，則不適合用資料科學來輔助決策')"
   ],
   "outputs": [
    {
     "output_type": "stream",
     "name": "stdout",
     "text": [
      "Q1:挑選 Mr./Ms. Right\n",
      "Q2:因為這個問題牽扯到每人喜歡的特質，難以量化\n",
      "若一個問題有無法量化標準化的問題，則不適合用資料科學來輔助決策\n"
     ]
    }
   ],
   "metadata": {}
  }
 ],
 "metadata": {
  "colab": {
   "name": "Day33.YOLO 細節理解 - 網路輸出的後處理_HW.ipynb",
   "provenance": []
  },
  "kernelspec": {
   "display_name": "Python 3",
   "language": "python",
   "name": "python3"
  },
  "language_info": {
   "codemirror_mode": {
    "name": "ipython",
    "version": 3
   },
   "file_extension": ".py",
   "mimetype": "text/x-python",
   "name": "python",
   "nbconvert_exporter": "python",
   "pygments_lexer": "ipython3",
   "version": "3.6.1"
  }
 },
 "nbformat": 4,
 "nbformat_minor": 1
}