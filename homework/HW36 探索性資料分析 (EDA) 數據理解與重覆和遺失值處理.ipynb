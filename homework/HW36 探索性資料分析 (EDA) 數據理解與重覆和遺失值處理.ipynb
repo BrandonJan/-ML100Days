{
 "cells": [
  {
   "cell_type": "markdown",
   "source": [
    "## 作業:\n",
    "課程範例以 訓練資料集來檢視，先看一下測試資料特性，再把測試資料集和訓練資料集合併，並回答下列問題，   \n",
    "目的:讓大家熟悉對應這樣的問題，我們要提取怎樣的函數來進行計算。   \n",
    "\n",
    "* Q1: 觀察測試(test)資料集和訓練(Train)資料集的變數的差異性?\n",
    "* Q2: 測試資料集是否有遺失值?\n",
    "* Q3: 從合併資料選取一個變數，嘗試去做各種不同遺失值的處理，並透過圖形或數值來做輔助判斷，補值前與後的差異，你覺得以這個變數而言，試著說明每一個方法的差異。   \n"
   ],
   "metadata": {}
  },
  {
   "cell_type": "code",
   "execution_count": 8,
   "source": [
    "#把需要的 library import 進來\r\n",
    "import pandas as pd\r\n",
    "import numpy as np\r\n",
    "import matplotlib.pyplot as plt\r\n",
    "import seaborn as sns\r\n",
    "\r\n",
    "from IPython.display import display\r\n",
    "#讓圖可以在 jupyter notebook顯示\r\n",
    "%matplotlib inline"
   ],
   "outputs": [],
   "metadata": {
    "colab": {
     "base_uri": "https://localhost:8080/",
     "height": 34
    },
    "colab_type": "code",
    "collapsed": true,
    "executionInfo": {
     "elapsed": 1558,
     "status": "ok",
     "timestamp": 1578021044012,
     "user": {
      "displayName": "Mora chen",
      "photoUrl": "https://lh3.googleusercontent.com/a-/AAuE7mB40f7sDArbZ5_DYq02nNcnLD0Ryaf7AhsASSQeLQ=s64",
      "userId": "03171203089166907199"
     },
     "user_tz": -480
    },
    "id": "yz28_IgkYdBW",
    "outputId": "a12f486c-18b3-4fb5-d06c-f162aebd9444"
   }
  },
  {
   "cell_type": "code",
   "execution_count": 9,
   "source": [
    "#顯示圖形的函數，可不先不用理解，直接用\r\n",
    "from IPython.display import display\r\n",
    "from IPython.display import display_html\r\n",
    "def display_side_by_side(*args):\r\n",
    "    html_str=''\r\n",
    "    for df in args:\r\n",
    "        html_str+=df.to_html()\r\n",
    "    display_html(html_str.replace('table','table style=\"display:inline\"'),raw=True)"
   ],
   "outputs": [],
   "metadata": {
    "collapsed": true
   }
  },
  {
   "cell_type": "code",
   "execution_count": 1,
   "source": [
    "#把需要的 library import 進來\r\n",
    "import pandas as pd\r\n",
    "import numpy as np\r\n",
    "import matplotlib.pyplot as plt\r\n",
    "import seaborn as sns\r\n",
    "\r\n",
    "from IPython.display import display\r\n",
    "#讓圖可以在 jupyter notebook顯示\r\n",
    "%matplotlib inline\r\n",
    "# 把兩個訓練資料集和測試資料集讀進來\r\n",
    "df_test = pd.read_csv('Titanic_test.csv')\r\n",
    "df_train = pd.read_csv('Titanic_train.csv')\r\n"
   ],
   "outputs": [],
   "metadata": {
    "collapsed": true
   }
  },
  {
   "cell_type": "markdown",
   "source": [
    "## Q1: 判斷 測試資料集和訓練資料集欄位變數是否有差異性?"
   ],
   "metadata": {}
  },
  {
   "cell_type": "code",
   "execution_count": 6,
   "source": [
    "# Q1: 判斷 測試資料集和訓練資料集欄位變數是否有差異性?\r\n",
    "'''\r\n",
    "暗示，可以用那些函數，來看出資料的欄位變數\r\n",
    "'''\r\n",
    "#把需要的 library import 進來\r\n",
    "import pandas as pd\r\n",
    "import numpy as np\r\n",
    "import matplotlib.pyplot as plt\r\n",
    "import seaborn as sns\r\n",
    "\r\n",
    "from IPython.display import display\r\n",
    "#讓圖可以在 jupyter notebook顯示\r\n",
    "%matplotlib inline\r\n",
    "# 把兩個訓練資料集和測試資料集讀進來\r\n",
    "df_test = pd.read_csv('Titanic_test.csv')\r\n",
    "df_train = pd.read_csv('Titanic_train.csv')\r\n",
    "print('test:',df_test.columns)\r\n",
    "print('train:',df_train.columns)\r\n"
   ],
   "outputs": [
    {
     "output_type": "stream",
     "name": "stdout",
     "text": [
      "test: Index(['PassengerId', 'Pclass', 'Name', 'Sex', 'Age', 'SibSp', 'Parch',\n",
      "       'Ticket', 'Fare', 'Cabin', 'Embarked'],\n",
      "      dtype='object')\n",
      "train: Index(['PassengerId', 'Survived', 'Pclass', 'Name', 'Sex', 'Age', 'SibSp',\n",
      "       'Parch', 'Ticket', 'Fare', 'Cabin', 'Embarked'],\n",
      "      dtype='object')\n"
     ]
    }
   ],
   "metadata": {}
  },
  {
   "cell_type": "markdown",
   "source": [
    "## A1 : Test 資料集沒有 'Survived'"
   ],
   "metadata": {}
  },
  {
   "cell_type": "markdown",
   "source": [
    "## Q2: 測試資料集是否有遺失值?"
   ],
   "metadata": {}
  },
  {
   "cell_type": "code",
   "execution_count": 13,
   "source": [
    "#可以嘗試用範例的程式\r\n",
    "#把需要的 library import 進來\r\n",
    "import pandas as pd\r\n",
    "import numpy as np\r\n",
    "import matplotlib.pyplot as plt\r\n",
    "import seaborn as sns\r\n",
    "\r\n",
    "from IPython.display import display\r\n",
    "#讓圖可以在 jupyter notebook顯示\r\n",
    "%matplotlib inline\r\n",
    "# 把兩個訓練資料集和測試資料集讀進來\r\n",
    "df_test = pd.read_csv('Titanic_test.csv')\r\n",
    "df_train = pd.read_csv('Titanic_train.csv')\r\n",
    "print(df_test.isnull().any())\r\n",
    "print(df_test.isnull().any().sum())\r\n",
    "print(df_train.isnull().any())\r\n",
    "print(df_train.isnull().any().sum())"
   ],
   "outputs": [
    {
     "output_type": "stream",
     "name": "stdout",
     "text": [
      "PassengerId    False\n",
      "Pclass         False\n",
      "Name           False\n",
      "Sex            False\n",
      "Age             True\n",
      "SibSp          False\n",
      "Parch          False\n",
      "Ticket         False\n",
      "Fare            True\n",
      "Cabin           True\n",
      "Embarked       False\n",
      "dtype: bool\n",
      "3\n",
      "PassengerId    False\n",
      "Survived       False\n",
      "Pclass         False\n",
      "Name           False\n",
      "Sex            False\n",
      "Age             True\n",
      "SibSp          False\n",
      "Parch          False\n",
      "Ticket         False\n",
      "Fare           False\n",
      "Cabin           True\n",
      "Embarked        True\n",
      "dtype: bool\n",
      "3\n"
     ]
    }
   ],
   "metadata": {}
  },
  {
   "cell_type": "markdown",
   "source": [
    "## Q3: 從合併資料選取一個變數，嘗試去做各種不同遺失值的處理，並透過圖形來做輔助判斷，補值前與後的差異，你覺得以這個變數而言，試著說明每一個方法的差異。   "
   ],
   "metadata": {}
  },
  {
   "cell_type": "code",
   "execution_count": 18,
   "source": [
    "#合併資料\r\n",
    "\r\n",
    "#把需要的 library import 進來\r\n",
    "import pandas as pd\r\n",
    "import numpy as np\r\n",
    "import matplotlib.pyplot as plt\r\n",
    "import seaborn as sns\r\n",
    "\r\n",
    "from IPython.display import display\r\n",
    "#讓圖可以在 jupyter notebook顯示\r\n",
    "%matplotlib inline\r\n",
    "# 把兩個訓練資料集和測試資料集讀進來\r\n",
    "df_test = pd.read_csv('Titanic_test.csv')\r\n",
    "df_train = pd.read_csv('Titanic_train.csv')\r\n",
    "data = df_train.append(df_test)\r\n",
    "print(data.info())"
   ],
   "outputs": [
    {
     "output_type": "stream",
     "name": "stdout",
     "text": [
      "<class 'pandas.core.frame.DataFrame'>\n",
      "Int64Index: 1309 entries, 0 to 890\n",
      "Data columns (total 12 columns):\n",
      " #   Column       Non-Null Count  Dtype  \n",
      "---  ------       --------------  -----  \n",
      " 0   PassengerId  1309 non-null   int64  \n",
      " 1   Pclass       1309 non-null   int64  \n",
      " 2   Name         1309 non-null   object \n",
      " 3   Sex          1309 non-null   object \n",
      " 4   Age          1046 non-null   float64\n",
      " 5   SibSp        1309 non-null   int64  \n",
      " 6   Parch        1309 non-null   int64  \n",
      " 7   Ticket       1309 non-null   object \n",
      " 8   Fare         1308 non-null   float64\n",
      " 9   Cabin        295 non-null    object \n",
      " 10  Embarked     1307 non-null   object \n",
      " 11  Survived     891 non-null    float64\n",
      "dtypes: float64(3), int64(4), object(5)\n",
      "memory usage: 132.9+ KB\n",
      "None\n"
     ]
    }
   ],
   "metadata": {}
  },
  {
   "cell_type": "code",
   "execution_count": 53,
   "source": [
    "# 以 XXX 為例，先看 Cabin  出現值的特性\r\n",
    "\r\n",
    "#把需要的 library import 進來\r\n",
    "import pandas as pd\r\n",
    "import numpy as np\r\n",
    "import matplotlib.pyplot as plt\r\n",
    "import seaborn as sns\r\n",
    "\r\n",
    "from IPython.display import display\r\n",
    "#讓圖可以在 jupyter notebook顯示\r\n",
    "%matplotlib inline\r\n",
    "# 把兩個訓練資料集和測試資料集讀進來\r\n",
    "df_test = pd.read_csv('Titanic_test.csv')\r\n",
    "df_train = pd.read_csv('Titanic_train.csv')\r\n",
    "data = df_train.append(df_test)\r\n",
    "print(data.isnull().sum())\r\n",
    "\r\n",
    "print(data['Cabin'].isnull().sum())#缺失值過多"
   ],
   "outputs": [
    {
     "output_type": "stream",
     "name": "stdout",
     "text": [
      "PassengerId       0\n",
      "Survived        418\n",
      "Pclass            0\n",
      "Name              0\n",
      "Sex               0\n",
      "Age             263\n",
      "SibSp             0\n",
      "Parch             0\n",
      "Ticket            0\n",
      "Fare              1\n",
      "Cabin          1014\n",
      "Embarked          2\n",
      "dtype: int64\n",
      "1014\n",
      "<class 'pandas.core.frame.DataFrame'>\n",
      "Int64Index: 1309 entries, 0 to 417\n",
      "Data columns (total 12 columns):\n",
      " #   Column       Non-Null Count  Dtype  \n",
      "---  ------       --------------  -----  \n",
      " 0   PassengerId  1309 non-null   int64  \n",
      " 1   Survived     891 non-null    float64\n",
      " 2   Pclass       1309 non-null   int64  \n",
      " 3   Name         1309 non-null   object \n",
      " 4   Sex          1309 non-null   object \n",
      " 5   Age          1046 non-null   float64\n",
      " 6   SibSp        1309 non-null   int64  \n",
      " 7   Parch        1309 non-null   int64  \n",
      " 8   Ticket       1309 non-null   object \n",
      " 9   Fare         1308 non-null   float64\n",
      " 10  Cabin        295 non-null    object \n",
      " 11  Embarked     1307 non-null   object \n",
      "dtypes: float64(3), int64(4), object(5)\n",
      "memory usage: 132.9+ KB\n",
      "None\n"
     ]
    }
   ],
   "metadata": {}
  },
  {
   "cell_type": "code",
   "execution_count": 54,
   "source": [
    "可看出'Cabin'缺失值過多，先將其和生存率作圖看影響"
   ],
   "outputs": [
    {
     "output_type": "error",
     "ename": "SyntaxError",
     "evalue": "invalid syntax (<ipython-input-54-4ce31140205c>, line 1)",
     "traceback": [
      "\u001b[1;36m  File \u001b[1;32m\"<ipython-input-54-4ce31140205c>\"\u001b[1;36m, line \u001b[1;32m1\u001b[0m\n\u001b[1;33m    可看出'Cabin'缺失值過多，先將其和生存率作圖看影響\u001b[0m\n\u001b[1;37m             ^\u001b[0m\n\u001b[1;31mSyntaxError\u001b[0m\u001b[1;31m:\u001b[0m invalid syntax\n"
     ]
    }
   ],
   "metadata": {}
  },
  {
   "cell_type": "code",
   "execution_count": null,
   "source": [
    "#把需要的 library import 進來\r\n",
    "import pandas as pd\r\n",
    "import numpy as np\r\n",
    "import matplotlib.pyplot as plt\r\n",
    "import seaborn as sns\r\n",
    "\r\n",
    "from IPython.display import display\r\n",
    "#讓圖可以在 jupyter notebook顯示\r\n",
    "%matplotlib inline\r\n",
    "# 把兩個訓練資料集和測試資料集讀進來\r\n",
    "df_test = pd.read_csv('Titanic_test.csv')\r\n",
    "df_train = pd.read_csv('Titanic_train.csv')\r\n",
    "data = pd.concat([df_train, df_test], axis = 0, join = 'outer', ignore_index = True)\r\n",
    "df = pd.DataFrame(data)\r\n",
    "print(df.head())\r\n",
    "print('-----')\r\n",
    "df[\"Cabin\"] = df[\"Cabin\"].apply(lambda x : str(x)[0] if not pd.isnull(x) else 'NoCabin') # 將Cabin取開頭的英文字母，不然原本的Cabin欄位種類過多\r\n",
    "print(df[\"Cabin\"].unique())\r\n",
    "sns.set_style('whitegrid')\r\n",
    "plt.hist(df['Cabin'])\r\n",
    "plt.show"
   ],
   "outputs": [
    {
     "output_type": "stream",
     "name": "stdout",
     "text": [
      "   PassengerId  Survived  Pclass  \\\n",
      "0            1       0.0       3   \n",
      "1            2       1.0       1   \n",
      "2            3       1.0       3   \n",
      "3            4       1.0       1   \n",
      "4            5       0.0       3   \n",
      "\n",
      "                                                Name     Sex   Age  SibSp  \\\n",
      "0                            Braund, Mr. Owen Harris    male  22.0      1   \n",
      "1  Cumings, Mrs. John Bradley (Florence Briggs Th...  female  38.0      1   \n",
      "2                             Heikkinen, Miss. Laina  female  26.0      0   \n",
      "3       Futrelle, Mrs. Jacques Heath (Lily May Peel)  female  35.0      1   \n",
      "4                           Allen, Mr. William Henry    male  35.0      0   \n",
      "\n",
      "   Parch            Ticket     Fare Cabin Embarked  \n",
      "0      0         A/5 21171   7.2500   NaN        S  \n",
      "1      0          PC 17599  71.2833   C85        C  \n",
      "2      0  STON/O2. 3101282   7.9250   NaN        S  \n",
      "3      0            113803  53.1000  C123        S  \n",
      "4      0            373450   8.0500   NaN        S  \n",
      "-----\n",
      "['NoCabin' 'C' 'E' 'G' 'D' 'A' 'B' 'F' 'T']\n"
     ]
    },
    {
     "output_type": "execute_result",
     "data": {
      "text/plain": [
       "<function matplotlib.pyplot.show>"
      ]
     },
     "metadata": {},
     "execution_count": 40
    },
    {
     "output_type": "display_data",
     "data": {
      "text/plain": [
       "<Figure size 432x288 with 1 Axes>"
      ],
      "image/png": "[encoded data removed]"
     },
     "metadata": {}
    }
   ],
   "metadata": {}
  },
  {
   "cell_type": "code",
   "execution_count": null,
   "source": [
    "#把需要的 library import 進來\r\n",
    "import pandas as pd\r\n",
    "import numpy as np\r\n",
    "import matplotlib.pyplot as plt\r\n",
    "import seaborn as sns\r\n",
    "\r\n",
    "from IPython.display import display\r\n",
    "#讓圖可以在 jupyter notebook顯示\r\n",
    "%matplotlib inline\r\n",
    "# 把兩個訓練資料集和測試資料集讀進來\r\n",
    "df_test = pd.read_csv('Titanic_test.csv')\r\n",
    "df_train = pd.read_csv('Titanic_train.csv')\r\n",
    "data = pd.concat([df_train, df_test], axis = 0, join = 'outer', ignore_index = True) \r\n",
    "df = pd.DataFrame(data)\r\n",
    "print(df.head())\r\n",
    "print('-----')\r\n",
    "df[\"Cabin\"] = df[\"Cabin\"].apply(lambda x : str(x)[0] if not pd.isnull(x) else 'NoCabin') # 將Cabin取開頭的英文字母\r\n",
    "print(df[\"Cabin\"].unique())\r\n",
    "sns.set_style('whitegrid')\r\n",
    "sns.countplot(data = df, x = 'Cabin', hue = 'Survived')\r\n",
    "plt.show()"
   ],
   "outputs": [
    {
     "output_type": "stream",
     "name": "stdout",
     "text": [
      "   PassengerId  Survived  Pclass  \\\n",
      "0            1       0.0       3   \n",
      "1            2       1.0       1   \n",
      "2            3       1.0       3   \n",
      "3            4       1.0       1   \n",
      "4            5       0.0       3   \n",
      "\n",
      "                                                Name     Sex   Age  SibSp  \\\n",
      "0                            Braund, Mr. Owen Harris    male  22.0      1   \n",
      "1  Cumings, Mrs. John Bradley (Florence Briggs Th...  female  38.0      1   \n",
      "2                             Heikkinen, Miss. Laina  female  26.0      0   \n",
      "3       Futrelle, Mrs. Jacques Heath (Lily May Peel)  female  35.0      1   \n",
      "4                           Allen, Mr. William Henry    male  35.0      0   \n",
      "\n",
      "   Parch            Ticket     Fare Cabin Embarked  \n",
      "0      0         A/5 21171   7.2500   NaN        S  \n",
      "1      0          PC 17599  71.2833   C85        C  \n",
      "2      0  STON/O2. 3101282   7.9250   NaN        S  \n",
      "3      0            113803  53.1000  C123        S  \n",
      "4      0            373450   8.0500   NaN        S  \n",
      "-----\n",
      "['NoCabin' 'C' 'E' 'G' 'D' 'A' 'B' 'F' 'T']\n"
     ]
    },
    {
     "output_type": "display_data",
     "data": {
      "text/plain": [
       "<Figure size 432x288 with 1 Axes>"
      ],
      "image/png": "[encoded data removed]"
     },
     "metadata": {}
    }
   ],
   "metadata": {}
  },
  {
   "cell_type": "code",
   "execution_count": null,
   "source": [
    "可看出NoCabin的死亡機率非常高，故嘗試將其資料刪除再做資料分析"
   ],
   "outputs": [],
   "metadata": {}
  },
  {
   "cell_type": "code",
   "execution_count": 67,
   "source": [
    "#把需要的 library import 進來\r\n",
    "import pandas as pd\r\n",
    "import numpy as np\r\n",
    "import matplotlib.pyplot as plt\r\n",
    "import seaborn as sns\r\n",
    "\r\n",
    "from IPython.display import display\r\n",
    "#讓圖可以在 jupyter notebook顯示\r\n",
    "%matplotlib inline\r\n",
    "# 把兩個訓練資料集和測試資料集讀進來\r\n",
    "df_test = pd.read_csv('Titanic_test.csv')\r\n",
    "df_train = pd.read_csv('Titanic_train.csv')\r\n",
    "data = pd.concat([df_train, df_test], axis = 0, join = 'outer', ignore_index = True)\r\n",
    "df = pd.DataFrame(data)\r\n",
    "df_drop = df.copy()\r\n",
    "df_drop['Cabin'] = df_drop['Cabin'].dropna()\r\n",
    "print(df_drop.info())\r\n",
    "df_drop[\"Cabin\"] = df_drop[\"Cabin\"].str[0:1]\r\n",
    "sns.set_style('whitegrid')\r\n",
    "sns.countplot(data = df_drop, x = 'Cabin', hue = 'Survived')\r\n",
    "plt.show()"
   ],
   "outputs": [
    {
     "output_type": "stream",
     "name": "stdout",
     "text": [
      "<class 'pandas.core.frame.DataFrame'>\n",
      "RangeIndex: 1309 entries, 0 to 1308\n",
      "Data columns (total 12 columns):\n",
      " #   Column       Non-Null Count  Dtype  \n",
      "---  ------       --------------  -----  \n",
      " 0   PassengerId  1309 non-null   int64  \n",
      " 1   Survived     891 non-null    float64\n",
      " 2   Pclass       1309 non-null   int64  \n",
      " 3   Name         1309 non-null   object \n",
      " 4   Sex          1309 non-null   object \n",
      " 5   Age          1046 non-null   float64\n",
      " 6   SibSp        1309 non-null   int64  \n",
      " 7   Parch        1309 non-null   int64  \n",
      " 8   Ticket       1309 non-null   object \n",
      " 9   Fare         1308 non-null   float64\n",
      " 10  Cabin        295 non-null    object \n",
      " 11  Embarked     1307 non-null   object \n",
      "dtypes: float64(3), int64(4), object(5)\n",
      "memory usage: 122.8+ KB\n",
      "None\n"
     ]
    },
    {
     "output_type": "display_data",
     "data": {
      "text/plain": [
       "<Figure size 432x288 with 1 Axes>"
      ],
      "image/png": "[encoded data removed]"
     },
     "metadata": {}
    }
   ],
   "metadata": {}
  }
 ],
 "metadata": {
  "colab": {
   "name": "Day33.YOLO 細節理解 - 網路輸出的後處理_HW.ipynb",
   "provenance": []
  },
  "kernelspec": {
   "display_name": "Python 3",
   "language": "python",
   "name": "python3"
  },
  "language_info": {
   "codemirror_mode": {
    "name": "ipython",
    "version": 3
   },
   "file_extension": ".py",
   "mimetype": "text/x-python",
   "name": "python",
   "nbconvert_exporter": "python",
   "pygments_lexer": "ipython3",
   "version": "3.6.1"
  }
 },
 "nbformat": 4,
 "nbformat_minor": 1
}